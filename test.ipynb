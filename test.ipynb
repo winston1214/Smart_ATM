{
 "cells": [
  {
   "cell_type": "code",
   "execution_count": 56,
   "metadata": {},
   "outputs": [],
   "source": [
    "import pymysql\n",
    "import hashlib"
   ]
  },
  {
   "cell_type": "code",
   "execution_count": 57,
   "metadata": {},
   "outputs": [],
   "source": [
    "connection = pymysql.connect(host = 'localhost',\n",
    "                             user = 'root',\n",
    "                             password = '0000',\n",
    "                             database = 'Smart_ATM',\n",
    "                             )"
   ]
  },
  {
   "cell_type": "code",
   "execution_count": 58,
   "metadata": {},
   "outputs": [],
   "source": [
    "cursor = connection.cursor()"
   ]
  },
  {
   "cell_type": "code",
   "execution_count": 59,
   "metadata": {},
   "outputs": [
    {
     "data": {
      "text/plain": [
       "2"
      ]
     },
     "execution_count": 59,
     "metadata": {},
     "output_type": "execute_result"
    }
   ],
   "source": [
    "# cursor.execute('select * from log_in where user_id = \\'root\\'')\n",
    "cursor.execute('select * from log_in')"
   ]
  },
  {
   "cell_type": "code",
   "execution_count": 60,
   "metadata": {},
   "outputs": [],
   "source": [
    "x = cursor.fetchall()"
   ]
  },
  {
   "cell_type": "code",
   "execution_count": 64,
   "metadata": {},
   "outputs": [
    {
     "data": {
      "text/plain": [
       "'ydj9805'"
      ]
     },
     "execution_count": 64,
     "metadata": {},
     "output_type": "execute_result"
    }
   ],
   "source": [
    "x[1][0]"
   ]
  },
  {
   "cell_type": "code",
   "execution_count": 65,
   "metadata": {},
   "outputs": [
    {
     "data": {
      "text/plain": [
       "'784dd8d2d8d924ae886ffd5fbf5090a9d942a768b8d0094e82adab4051e6d06e'"
      ]
     },
     "execution_count": 65,
     "metadata": {},
     "output_type": "execute_result"
    }
   ],
   "source": [
    "hashlib.sha256(x[1][0].encode()).hexdigest()"
   ]
  },
  {
   "cell_type": "code",
   "execution_count": null,
   "metadata": {},
   "outputs": [],
   "source": [
    "import hashlib member_text_db = { 'admin':'1234', 'user1':'asdf1234', 'user2':'qwer1234', 'user3':'iloveyou' } member_encrypt_db = { 'admin':'', 'user1':'', 'user2':'', 'user3':'', } def make_encrypt_password(): for id in member_text_db: member_encrypt_db[id] = hashlib.sha256(member_text_db[id].encode()).hexdigest() login_count = 3 def login_text(id, password): if hashlib.sha256(member_text_db[id].encode()).hexdigest() == hashlib.sha256(password.encode()).hexdigest(): return True else: return False def print_member(member): for id in member: print(id, member[id], sep = \": \") if __name__ == \"__main__\": print(\"Welcom to the login system!\") id = input(\"ID: \") while True: if id in member_text_db: while login_count >= 0: password = input(\"Password: \") login_result = login_text(id, password) if login_result: print(\"Welcom!\") break else: if login_count == 0: break print(\"Wrong Password. Try again\") login_count -= 1 continue break else: print(\"Wrong ID. Try again.\") id = input(\"ID : \") continue"
   ]
  }
 ],
 "metadata": {
  "kernelspec": {
   "display_name": "SmartATM",
   "language": "python",
   "name": "python3"
  },
  "language_info": {
   "codemirror_mode": {
    "name": "ipython",
    "version": 3
   },
   "file_extension": ".py",
   "mimetype": "text/x-python",
   "name": "python",
   "nbconvert_exporter": "python",
   "pygments_lexer": "ipython3",
   "version": "3.11.5"
  },
  "orig_nbformat": 4
 },
 "nbformat": 4,
 "nbformat_minor": 2
}
